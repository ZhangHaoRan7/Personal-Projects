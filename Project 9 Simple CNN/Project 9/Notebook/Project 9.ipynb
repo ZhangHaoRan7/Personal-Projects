{
 "cells": [
  {
   "cell_type": "markdown",
   "id": "ec57a541-499a-4f86-b420-1ee9f2edf897",
   "metadata": {},
   "source": [
    "1. Downlaod the dataset"
   ]
  },
  {
   "cell_type": "code",
   "execution_count": 2,
   "id": "GBatoLwTkNRt",
   "metadata": {
    "colab": {
     "base_uri": "https://localhost:8080/"
    },
    "id": "GBatoLwTkNRt",
    "outputId": "2341ae53-a78c-4d35-f309-919e1829554f"
   },
   "outputs": [
    {
     "name": "stderr",
     "output_type": "stream",
     "text": [
      "Downloading: 100%|██████████| 2.55G/2.55G [00:49<00:00, 55.0MB/s]\n"
     ]
    }
   ],
   "source": [
    "import requests\n",
    "from tqdm import tqdm\n",
    "\n",
    "url = \"http://dataverse.jpl.nasa.gov/api/access/datafile/83039\"\n",
    "response = requests.get(url, stream=True)\n",
    "\n",
    "if response.status_code == 200:\n",
    "    total_size = int(response.headers.get('content-length', 0))\n",
    "\n",
    "    with open(\"data.zip\", \"wb\") as file, tqdm(\n",
    "            desc=\"Downloading\",\n",
    "            total=total_size,\n",
    "            unit=\"B\",\n",
    "            unit_scale=True,\n",
    "            unit_divisor=1024,\n",
    "    ) as bar:\n",
    "        for data in response.iter_content(chunk_size=1024):\n",
    "            size = file.write(data)\n",
    "            bar.update(size)\n",
    "else:\n",
    "    print(\"Failed to download the dataset. Status code:\", response.status_code)\n"
   ]
  },
  {
   "cell_type": "code",
   "execution_count": 3,
   "id": "GbPcmQkCnidD",
   "metadata": {
    "colab": {
     "base_uri": "https://localhost:8080/"
    },
    "id": "GbPcmQkCnidD",
    "outputId": "45b0b048-92e3-4edb-cdcd-efe07f16123a"
   },
   "outputs": [
    {
     "name": "stderr",
     "output_type": "stream",
     "text": [
      "Extracting: 100%|██████████| 220123/220123 [00:40<00:00, 5374.21file/s]\n"
     ]
    },
    {
     "name": "stdout",
     "output_type": "stream",
     "text": [
      "ZIP file extracted successfully.\n"
     ]
    }
   ],
   "source": [
    "import zipfile\n",
    "from tqdm import tqdm\n",
    "\n",
    "def extract_zip(zip_file_path, extract_folder):\n",
    "    with zipfile.ZipFile(zip_file_path, 'r') as zip_ref:\n",
    "        file_list = zip_ref.namelist()\n",
    "\n",
    "        for file in tqdm(file_list, desc=\"Extracting\", unit=\"file\"):\n",
    "            zip_ref.extract(file, extract_folder)\n",
    "\n",
    "zip_file_path = \"data.zip\"\n",
    "extract_folder = \"data\"\n",
    "extract_zip(zip_file_path, extract_folder)\n",
    "print(\"ZIP file extracted successfully.\")"
   ]
  },
  {
   "cell_type": "code",
   "execution_count": 4,
   "id": "ZQHaMzCPms5L",
   "metadata": {
    "id": "ZQHaMzCPms5L"
   },
   "outputs": [],
   "source": [
    "import requests\n",
    "\n",
    "url = \"http://dataverse.jpl.nasa.gov/api/access/datafile/83031\"\n",
    "response = requests.get(url)\n",
    "\n",
    "if response.status_code == 200:\n",
    "    with open(\"test_source_images.txt\", \"wb\") as f:\n",
    "        f.write(response.content)\n",
    "else:\n",
    "    print(\"Failed to download the dataset. Status code:\", response.status_code)\n",
    "\n",
    "url = \"http://dataverse.jpl.nasa.gov/api/access/datafile/83035\"\n",
    "response = requests.get(url)\n",
    "\n",
    "if response.status_code == 200:\n",
    "    with open(\"train_source_images.txt\", \"wb\") as f:\n",
    "        f.write(response.content)\n",
    "else:\n",
    "    print(\"Failed to download the dataset. Status code:\", response.status_code)\n",
    "\n",
    "url = \"http://dataverse.jpl.nasa.gov/api/access/datafile/83032\"\n",
    "response = requests.get(url)\n",
    "\n",
    "if response.status_code == 200:\n",
    "    with open(\"val_source_images.txt\", \"wb\") as f:\n",
    "        f.write(response.content)\n",
    "else:\n",
    "    print(\"Failed to download the dataset. Status code:\", response.status_code)"
   ]
  },
  {
   "cell_type": "code",
   "execution_count": 5,
   "id": "12268680d58347fb",
   "metadata": {
    "ExecuteTime": {
     "end_time": "2023-12-05T09:32:30.275515Z",
     "start_time": "2023-12-05T09:32:30.079086Z"
    },
    "collapsed": false,
    "id": "12268680d58347fb",
    "jupyter": {
     "outputs_hidden": false
    }
   },
   "outputs": [],
   "source": [
    "import logging\n",
    "from pathlib import Path\n",
    "import os\n",
    "import numpy as np\n",
    "from PIL import Image\n",
    "\n",
    "# Head directory containing all image subframes\n",
    "data_head_dir = Path('./data/data')\n",
    "\n",
    "# Find all subframe directories\n",
    "subdirs = [Path(subdir.stem) for subdir in data_head_dir.iterdir() if subdir.is_dir()]\n",
    "src_image_ids = ['_'.join(a_path.name.split('_')[:3]) for a_path in subdirs]"
   ]
  },
  {
   "cell_type": "code",
   "execution_count": 6,
   "id": "bd02e4adfd0dd53c",
   "metadata": {
    "ExecuteTime": {
     "end_time": "2023-12-05T09:32:30.366766Z",
     "start_time": "2023-12-05T09:32:30.276428Z"
    },
    "collapsed": false,
    "id": "bd02e4adfd0dd53c",
    "jupyter": {
     "outputs_hidden": false
    }
   },
   "outputs": [],
   "source": [
    "# Load train/val/test subframe IDs\n",
    "def load_text_ids(file_path):\n",
    "    \"\"\"Simple helper to load all lines from a text file\"\"\"\n",
    "    with open(file_path, 'r') as f:\n",
    "        lines = [line.strip() for line in f.readlines()]\n",
    "    return lines\n",
    "\n",
    "\n",
    "# Load the subframe names for the three data subsets\n",
    "train_ids = load_text_ids('./train_source_images.txt')\n",
    "validate_ids = load_text_ids('./val_source_images.txt')\n",
    "test_ids = load_text_ids('./test_source_images.txt')"
   ]
  },
  {
   "cell_type": "code",
   "execution_count": 7,
   "id": "d952756e539eac7f",
   "metadata": {
    "ExecuteTime": {
     "end_time": "2023-12-05T09:32:30.367059Z",
     "start_time": "2023-12-05T09:32:30.310480Z"
    },
    "collapsed": false,
    "id": "d952756e539eac7f",
    "jupyter": {
     "outputs_hidden": false
    }
   },
   "outputs": [],
   "source": [
    "# Generate a list containing the dataset split for the matching subdirectory names\n",
    "subdir_splits = []\n",
    "for src_id in src_image_ids:\n",
    "    if src_id in train_ids:\n",
    "        subdir_splits.append('train')\n",
    "    elif src_id in validate_ids:\n",
    "        subdir_splits.append('validate')\n",
    "    elif (src_id in test_ids):\n",
    "        subdir_splits.append('test')\n",
    "    else:\n",
    "        logging.warning(f'{src_id}: Did not find designated split in train/validate/test list.')\n",
    "        subdir_splits.append(None)"
   ]
  },
  {
   "cell_type": "code",
   "execution_count": 8,
   "id": "v1b9QJSTp6cF",
   "metadata": {
    "colab": {
     "base_uri": "https://localhost:8080/"
    },
    "id": "v1b9QJSTp6cF",
    "outputId": "9f93e6b7-6f68-4f87-8279-84ae94181341"
   },
   "outputs": [
    {
     "name": "stdout",
     "output_type": "stream",
     "text": [
      "GPU device found: /device:GPU:0\n"
     ]
    }
   ],
   "source": [
    "import tensorflow as tf\n",
    "\n",
    "device_name = tf.test.gpu_device_name()\n",
    "\n",
    "if device_name:\n",
    "    print(f\"GPU device found: {device_name}\")\n",
    "else:\n",
    "    print(\"No GPU device found. Running on CPU.\")\n"
   ]
  },
  {
   "cell_type": "markdown",
   "id": "268c3527",
   "metadata": {},
   "source": [
    "2. This section of code is responsible for loading training, validation, and test data. The get_imgs function is used to retrieve image data from subfolders and assign labels accordingly. The main loop iterates through the subfolders of the dataset, adding images and labels to the respective lists based on their categories. Finally, it outputs the number of images and labels for each dataset, along with the total number of processed subfolders."
   ]
  },
  {
   "cell_type": "code",
   "execution_count": 9,
   "id": "1c44f296fe1e8a55",
   "metadata": {
    "ExecuteTime": {
     "end_time": "2023-12-05T09:33:59.757685Z",
     "start_time": "2023-12-05T09:32:30.321429Z"
    },
    "colab": {
     "base_uri": "https://localhost:8080/"
    },
    "collapsed": false,
    "id": "1c44f296fe1e8a55",
    "jupyter": {
     "outputs_hidden": false
    },
    "outputId": "3376bea4-f4fb-4a20-dbe3-cc253d0d3b69"
   },
   "outputs": [
    {
     "name": "stderr",
     "output_type": "stream",
     "text": [
      "Loading datasets: 100%|██████████| 10/10 [00:02<00:00,  4.81it/s]\n"
     ]
    },
    {
     "data": {
      "text/plain": [
       "(247, 247, 269, 269, 487, 487, 414)"
      ]
     },
     "execution_count": 9,
     "metadata": {},
     "output_type": "execute_result"
    }
   ],
   "source": [
    "import matplotlib.pyplot as plt\n",
    "def get_imgs(dir_path):\n",
    "    images = []\n",
    "    labels = []\n",
    "\n",
    "    tile_dir = dir_path / Path('tiles')\n",
    "    subdirectories = [d for d in tile_dir.iterdir() if d.is_dir()]\n",
    "\n",
    "    first_subdir = subdirectories[0]\n",
    "    if first_subdir.name == 'frost':\n",
    "        label = 1\n",
    "    else:\n",
    "        label = 0\n",
    "\n",
    "    for file_path in first_subdir.glob('*'):\n",
    "        image = plt.imread(str(file_path))\n",
    "        images.append(image)\n",
    "        labels.append(label)\n",
    "\n",
    "    return images, labels\n",
    "\n",
    "\n",
    "\n",
    "train_images, train_labels = [], []\n",
    "val_images, val_labels = [], []\n",
    "test_images, test_labels = [], []\n",
    "\n",
    "from tqdm import tqdm\n",
    "from itertools import islice\n",
    "\n",
    "subdirs_iter = islice(zip(subdirs, subdir_splits), len(subdirs))\n",
    "\n",
    "total_elements = len(subdirs)\n",
    "\n",
    "# 使用 tqdm 迭代前100个元素\n",
    "for subdir, tp in tqdm(subdirs_iter, total=total_elements, desc='Loading datasets'):\n",
    "    imgs_path = data_head_dir / subdir\n",
    "    images, labels = get_imgs(imgs_path)\n",
    "    if tp == 'train':\n",
    "        train_images += images\n",
    "        train_labels += labels\n",
    "    elif tp == 'validate':\n",
    "        val_images += images\n",
    "        val_labels += labels\n",
    "    else:\n",
    "        test_images += images\n",
    "        test_labels += labels\n",
    "\n",
    "\n",
    "len(train_images), len(train_labels), len(val_images), len(val_labels), len(test_images),len(test_labels), len(subdirs)\n"
   ]
  },
  {
   "cell_type": "code",
   "execution_count": 10,
   "id": "29ec9ba8-0912-4e34-970e-0fac7350c629",
   "metadata": {
    "ExecuteTime": {
     "start_time": "2023-12-05T09:38:26.359893Z"
    },
    "collapsed": false,
    "id": "29ec9ba8-0912-4e34-970e-0fac7350c629",
    "is_executing": true,
    "jupyter": {
     "outputs_hidden": false
    }
   },
   "outputs": [],
   "source": [
    "def train_generator(train_path, train_labels, batch):\n",
    "    over = len(train_path) % batch\n",
    "    datas, labels = [], []\n",
    "    while True:\n",
    "        for i in range(0, len(train_path) - over, batch):\n",
    "            for j in range(i, i + batch):\n",
    "                datas.append(np.array(Image.open(train_path[j])).reshape(299,299,1))\n",
    "            labels.append(train_labels[i:i+batch])\n",
    "            yield (np.array(datas), np.array(labels))"
   ]
  },
  {
   "cell_type": "code",
   "execution_count": 8,
   "id": "66aa429b-0880-4fc8-9956-e6cceae45007",
   "metadata": {
    "ExecuteTime": {
     "start_time": "2023-12-05T09:38:26.359893Z"
    },
    "collapsed": false,
    "id": "66aa429b-0880-4fc8-9956-e6cceae45007",
    "is_executing": true,
    "jupyter": {
     "outputs_hidden": false
    }
   },
   "outputs": [],
   "source": [
    "import tensorflow as tf\n",
    "def tf_read_image(image, label, width=-1, height=-1):\n",
    "    # Assuming image is already decoded\n",
    "    if width > 0 and height > 0:\n",
    "        image = tf.image.resize_images(image, [height, width])\n",
    "\n",
    "    image = tf.cast(image, tf.float32) * (1. / 255.0)\n",
    "    return image, label\n",
    "\n",
    "def input_fun(images_list, labels_list, batch_size, shuffle=True):\n",
    "\n",
    "    dataset = tf.data.Dataset.from_tensor_slices((images_list, labels_list))\n",
    "\n",
    "    if shuffle:\n",
    "        dataset = dataset.shuffle(100)\n",
    "\n",
    "    dataset = dataset.repeat()\n",
    "    dataset = dataset.map(tf_read_image, num_parallel_calls=8)\n",
    "    dataset = dataset.batch(batch_size)\n",
    "    dataset = dataset.prefetch(2)\n",
    "    return dataset\n",
    "\n",
    "# Example usage:\n",
    "dataset = input_fun(train_images, train_labels, batch_size=64, shuffle=False)\n",
    "dataset"
   ]
  },
  {
   "cell_type": "markdown",
   "id": "d9e0ede7",
   "metadata": {},
   "source": [
    "3. This code segment implements the training process for a Convolutional Neural Network (CNN). The model architecture includes convolutional layers, batch normalization, max-pooling layers, and fully connected layers, designed for solving a binary classification problem. Training data is generated using a data generator, and an early stopping strategy is employed to halt training when the validation loss remains unchanged for five consecutive epochs. The model is compiled using the Adam optimizer with categorical crossentropy as the loss function and accuracy as the evaluation metric."
   ]
  },
  {
   "cell_type": "code",
   "execution_count": 16,
   "id": "3ba75360-1d39-4c71-9efc-701c117ef083",
   "metadata": {
    "ExecuteTime": {
     "start_time": "2023-12-05T09:38:26.359893Z"
    },
    "colab": {
     "base_uri": "https://localhost:8080/"
    },
    "collapsed": false,
    "id": "3ba75360-1d39-4c71-9efc-701c117ef083",
    "is_executing": true,
    "jupyter": {
     "outputs_hidden": false
    },
    "outputId": "f0b02560-a9cc-4376-ac70-7530d747c8d7"
   },
   "outputs": [
    {
     "name": "stdout",
     "output_type": "stream",
     "text": [
      "Epoch 1/20\n",
      "1000/1000 [==============================] - 3s 3ms/step - loss: 0.8550 - accuracy: 0.5000 - val_loss: 0.7453 - val_accuracy: 0.5300\n",
      "Epoch 2/20\n",
      "1000/1000 [==============================] - 3s 3ms/step - loss: 0.6733 - accuracy: 0.5930 - val_loss: 0.7313 - val_accuracy: 0.5500\n",
      "Epoch 3/20\n",
      "1000/1000 [==============================] - 3s 3ms/step - loss: 0.6211 - accuracy: 0.6420 - val_loss: 0.7505 - val_accuracy: 0.5000\n",
      "Epoch 4/20\n",
      "1000/1000 [==============================] - 3s 3ms/step - loss: 0.5792 - accuracy: 0.7030 - val_loss: 0.7750 - val_accuracy: 0.5200\n",
      "Epoch 5/20\n",
      "1000/1000 [==============================] - 3s 3ms/step - loss: 0.5468 - accuracy: 0.7240 - val_loss: 0.8000 - val_accuracy: 0.5000\n",
      "Epoch 6/20\n",
      "1000/1000 [==============================] - 3s 3ms/step - loss: 0.5127 - accuracy: 0.7490 - val_loss: 0.8208 - val_accuracy: 0.5000\n",
      "Epoch 7/20\n",
      "1000/1000 [==============================] - 4s 4ms/step - loss: 0.4784 - accuracy: 0.7770 - val_loss: 0.8559 - val_accuracy: 0.5300\n",
      "Epoch 8/20\n",
      "1000/1000 [==============================] - 3s 3ms/step - loss: 0.4426 - accuracy: 0.8010 - val_loss: 0.9166 - val_accuracy: 0.5000\n",
      "Epoch 9/20\n",
      "1000/1000 [==============================] - 3s 3ms/step - loss: 0.4139 - accuracy: 0.8200 - val_loss: 0.9824 - val_accuracy: 0.5100\n",
      "Epoch 10/20\n",
      "1000/1000 [==============================] - 3s 3ms/step - loss: 0.3799 - accuracy: 0.8350 - val_loss: 1.0456 - val_accuracy: 0.5100\n",
      "Epoch 11/20\n",
      "1000/1000 [==============================] - 3s 3ms/step - loss: 0.3439 - accuracy: 0.8710 - val_loss: 1.0521 - val_accuracy: 0.5200\n",
      "Epoch 12/20\n",
      "1000/1000 [==============================] - 3s 3ms/step - loss: 0.3200 - accuracy: 0.8600 - val_loss: 1.1250 - val_accuracy: 0.5400\n",
      "Epoch 13/20\n",
      "1000/1000 [==============================] - 3s 3ms/step - loss: 0.2823 - accuracy: 0.8990 - val_loss: 1.2349 - val_accuracy: 0.5300\n",
      "Epoch 14/20\n",
      "1000/1000 [==============================] - 3s 3ms/step - loss: 0.2592 - accuracy: 0.9180 - val_loss: 1.2814 - val_accuracy: 0.5400\n",
      "Epoch 15/20\n",
      "1000/1000 [==============================] - 3s 3ms/step - loss: 0.2344 - accuracy: 0.9270 - val_loss: 1.3348 - val_accuracy: 0.5300\n",
      "Epoch 16/20\n",
      "1000/1000 [==============================] - 4s 4ms/step - loss: 0.2093 - accuracy: 0.9320 - val_loss: 1.3890 - val_accuracy: 0.5500\n",
      "Epoch 17/20\n",
      "1000/1000 [==============================] - 3s 3ms/step - loss: 0.1918 - accuracy: 0.9430 - val_loss: 1.5001 - val_accuracy: 0.5100\n",
      "Epoch 18/20\n",
      "1000/1000 [==============================] - 3s 3ms/step - loss: 0.1702 - accuracy: 0.9470 - val_loss: 1.5740 - val_accuracy: 0.5300\n",
      "Epoch 19/20\n",
      "1000/1000 [==============================] - 3s 3ms/step - loss: 0.1537 - accuracy: 0.9650 - val_loss: 1.6078 - val_accuracy: 0.5200\n",
      "Epoch 20/20\n",
      "1000/1000 [==============================] - 3s 3ms/step - loss: 0.1373 - accuracy: 0.9680 - val_loss: 1.8019 - val_accuracy: 0.5500\n"
     ]
    }
   ],
   "source": [
    "import tensorflow as tf\n",
    "import math\n",
    "from tensorflow.keras import layers, models\n",
    "from tensorflow.keras.callbacks import EarlyStopping\n",
    "from tensorflow.keras.regularizers import l2\n",
    "from tensorflow.keras.optimizers import Adam\n",
    "\n",
    "def create_cnn_model(input_shape, num_classes):\n",
    "    model = models.Sequential()\n",
    "\n",
    "    model.add(layers.Conv2D(32, (3, 3), activation='relu', input_shape=input_shape))\n",
    "    model.add(layers.BatchNormalization())\n",
    "    model.add(layers.MaxPooling2D((2, 2)))\n",
    "\n",
    "    model.add(layers.Conv2D(64, (3, 3), activation='relu'))\n",
    "    model.add(layers.BatchNormalization())\n",
    "    model.add(layers.MaxPooling2D((2, 2)))\n",
    "\n",
    "    model.add(layers.Conv2D(128, (3, 3), activation='relu'))\n",
    "    model.add(layers.BatchNormalization())\n",
    "    model.add(layers.MaxPooling2D((2, 2)))\n",
    "\n",
    "    model.add(layers.Flatten())\n",
    "\n",
    "    model.add(layers.Dense(256, activation='relu', kernel_regularizer=l2(0.01)))\n",
    "    model.add(layers.BatchNormalization())\n",
    "    model.add(layers.Dropout(0.3))\n",
    "\n",
    "    model.add(layers.Dense(num_classes, activation='softmax'))\n",
    "\n",
    "    model.compile(optimizer=Adam(learning_rate=0.00001), loss='categorical_crossentropy', metrics=['accuracy'])\n",
    "\n",
    "    return model\n",
    "\n",
    "\n",
    "def read_img(path):\n",
    "    return np.array(Image.open(path)).reshape(299, 299, 1) / 255.0\n",
    "\n",
    "def train_generator(train_images, train_labels, batch):\n",
    "    over = len(train_images) % batch\n",
    "    while True:\n",
    "        for i in range(0, len(train_images) - over, batch):\n",
    "            images_batch = train_images[i:i + batch]\n",
    "            labels_batch = np.array(train_labels[i:i + batch])\n",
    "            yield (np.array(images_batch), labels_batch)\n",
    "        if over > 0:\n",
    "            images_batch = train_images[-over:]\n",
    "            labels_batch = np.array(train_labels[-over:])\n",
    "            yield (np.array(images_batch), labels_batch)\n",
    "\n",
    "input_shape = (299, 299, 1)\n",
    "num_classes = 1\n",
    "\n",
    "model = create_cnn_model(input_shape, num_classes)\n",
    "early_stopping = EarlyStopping(monitor='val_loss', patience=5, restore_best_weights=True)\n",
    "\n",
    "history = model.fit(train_generator(train_images, train_labels, 64),\n",
    "                    epochs=20,\n",
    "                    steps_per_epoch=1000,\n",
    "                    validation_data=train_generator(val_images, val_labels, 64),\n",
    "                    validation_steps=math.ceil(len(val_images) / 64)),\n",
    "                    callbacks=[early_stopping])\n"
   ]
  },
  {
   "cell_type": "markdown",
   "id": "968e0455",
   "metadata": {},
   "source": [
    "4. This code performs a comparison of the model's predictions on the test set with the true labels. It calculates and prints various evaluation metrics, including precision, recall, and F1 score. "
   ]
  },
  {
   "cell_type": "code",
   "execution_count": 15,
   "id": "XwOyJjtIoCsn",
   "metadata": {
    "colab": {
     "base_uri": "https://localhost:8080/"
    },
    "id": "XwOyJjtIoCsn",
    "outputId": "e47a0607-2051-4d50-d00f-05145dcb86e6"
   },
   "outputs": [
    {
     "name": "stdout",
     "output_type": "stream",
     "text": [
      "              precision    recall  f1-score   support\n",
      "\n",
      "         0.0       1.00      0.72      0.83       349\n",
      "         1.0       0.78      1.00      0.88       350\n",
      "\n",
      "    accuracy                           0.86       699\n",
      "   macro avg       0.89      0.86      0.86       699\n",
      "weighted avg       0.89      0.86      0.86       699\n",
      "\n",
      "Precision: 0.8898\n",
      "Recall: 0.8582\n",
      "F1 Score: 0.8554\n"
     ]
    }
   ],
   "source": [
    "# result compare\n",
    "import math\n",
    "predict_steps = math.ceil(len(test_images) / 64)\n",
    "\n",
    "def test_generator(train_images, train_labels, batch):\n",
    "    over = len(train_images) % batch\n",
    "    while True:\n",
    "        for i in range(0, len(train_images) - over, batch):\n",
    "            images_batch = train_images[i:i + batch]\n",
    "            labels_batch = np.array(train_labels[i:i + batch])\n",
    "            yield (np.array(images_batch), labels_batch)\n",
    "        if over > 0:\n",
    "            images_batch = train_images[-over:]\n",
    "            labels_batch = np.array(train_labels[-over:])\n",
    "            yield (np.array(images_batch), labels_batch)\n",
    "\n",
    "\n",
    "# 生成预测结果\n",
    "predictions = model.predict(test_generator(test_images, test_labels, 64), steps=predict_steps)\n",
    "predicted_classes = np.argmax(predictions, axis=1)\n",
    "true_classes = test_labels  # 使用 test_labels 而不是 test_generator.classes\n",
    "print(len(test_images),len(true_classes), len(predicted_classes))\n",
    "from sklearn.metrics import classification_report, precision_score, recall_score, f1_score\n",
    "\n",
    "# 打印分类报告\n",
    "print(classification_report(true_classes, predicted_classes))\n",
    "\n",
    "# 计算并打印精确度、召回率和F1分数\n",
    "precision = precision_score(true_classes, predicted_classes)\n",
    "recall = recall_score(true_classes, predicted_classes)\n",
    "f1 = f1_score(true_classes, predicted_classes)\n",
    "\n",
    "print(f'Precision: {precision:.4f}')\n",
    "print(f'Recall: {recall:.4f}')\n",
    "print(f'F1 Score: {f1:.4f}')\n"
   ]
  },
  {
   "cell_type": "markdown",
   "id": "1c789475",
   "metadata": {},
   "source": [
    "5. This code performs transfer learning using pre-trained image classification models (EfficientNetB0, ResNet50, VGG16). It freezes certain layers, extracts features, concatenates them, and adds a fully connected layer for classification. The model is trained and evaluated on preprocessed and normalized image data, with training progress visualized through loss and accuracy curves across epochs."
   ]
  },
  {
   "cell_type": "code",
   "execution_count": 13,
   "id": "anvUwvYvIY15",
   "metadata": {
    "colab": {
     "base_uri": "https://localhost:8080/",
     "height": 616
    },
    "id": "anvUwvYvIY15",
    "outputId": "e32b50db-e97f-4bc0-8d44-77617c86a09d"
   },
   "outputs": [
    {
     "name": "stdout",
     "output_type": "stream",
     "text": [
      "Epoch 1/20\n",
      "1000/1000 [==============================] - 58s 48ms/step - loss: 0.6877 - accuracy: 0.6590 - val_loss: 0.6809 - val_accuracy: 1.0000\n",
      "Epoch 2/20\n",
      "1000/1000 [==============================] - 42s 42ms/step - loss: 0.6771 - accuracy: 0.6620 - val_loss: 0.6918 - val_accuracy: 0.8922\n",
      "Epoch 3/20\n",
      "1000/1000 [==============================] - 44s 44ms/step - loss: 0.6686 - accuracy: 0.6580 - val_loss: 0.6164 - val_accuracy: 1.0000\n",
      "Epoch 4/20\n",
      "1000/1000 [==============================] - 43s 43ms/step - loss: 0.6614 - accuracy: 0.6600 - val_loss: 0.6311 - val_accuracy: 1.0000\n",
      "Epoch 5/20\n",
      " 939/1000 [===========================>..] - ETA: 2s - loss: 0.6557 - accuracy: 0.6603"
     ]
    },
    {
     "name": "stderr",
     "output_type": "stream",
     "text": [
      "WARNING:tensorflow:Your input ran out of data; interrupting training. Make sure that your dataset or generator can generate at least `steps_per_epoch * epochs` batches (in this case, 20000 batches). You may need to use the repeat() function when building your dataset.\n"
     ]
    },
    {
     "name": "stdout",
     "output_type": "stream",
     "text": [
      "1000/1000 [==============================] - 43s 43ms/step - loss: 0.6556 - accuracy: 0.6606 - val_loss: 0.5691 - val_accuracy: 1.0000\n",
      "Test Accuracy: 57.00%\n"
     ]
    },
    {
     "data": {
      "image/png": "[encoded data removed]",
      "text/plain": [
       "<Figure size 1200x400 with 2 Axes>"
      ]
     },
     "metadata": {},
     "output_type": "display_data"
    }
   ],
   "source": [
    "# transfer learning\n",
    "\n",
    "from tensorflow.keras.applications import EfficientNetB0, ResNet50, VGG16\n",
    "from tensorflow.keras.layers import GlobalAveragePooling2D, Dense, Dropout, BatchNormalization, Flatten\n",
    "from tensorflow.keras.models import Model\n",
    "from tensorflow.keras.optimizers import Adam\n",
    "from tensorflow.keras.callbacks import EarlyStopping\n",
    "\n",
    "import numpy as np\n",
    "\n",
    "train_images_array = np.array(train_images)\n",
    "val_images_array = np.array(val_images)\n",
    "test_images_array = np.array(test_images)\n",
    "\n",
    "train_images_rgb = np.repeat(train_images_array[..., np.newaxis], 3, -1)\n",
    "val_images_rgb = np.repeat(val_images_array[..., np.newaxis], 3, -1)\n",
    "test_images_rgb = np.repeat(test_images_array[..., np.newaxis], 3, -1)\n",
    "\n",
    "\n",
    "# Preprocess the data for transfer learning\n",
    "train_images_preprocessed = np.array(train_images_rgb)\n",
    "val_images_preprocessed = np.array(val_images_rgb)\n",
    "test_images_preprocessed = np.array(test_images_rgb)\n",
    "\n",
    "# Normalize pixel values to be between 0 and 1\n",
    "train_images_preprocessed = train_images_preprocessed / 255.0\n",
    "val_images_preprocessed = val_images_preprocessed / 255.0\n",
    "test_images_preprocessed = test_images_preprocessed / 255.0\n",
    "\n",
    "# Convert labels to categorical\n",
    "train_labels_categorical = tf.keras.utils.to_categorical(train_labels, num_classes=2)\n",
    "val_labels_categorical = tf.keras.utils.to_categorical(val_labels, num_classes=2)\n",
    "test_labels_categorical = tf.keras.utils.to_categorical(test_labels, num_classes=2)\n",
    "\n",
    "# Load pre-trained models\n",
    "effnet_model = EfficientNetB0(weights='imagenet', include_top=False, input_shape=(299, 299, 3))\n",
    "resnet_model = ResNet50(weights='imagenet', include_top=False, input_shape=(299, 299, 3))\n",
    "vgg16_model = VGG16(weights='imagenet', include_top=False, input_shape=(299, 299, 3))\n",
    "\n",
    "# Freeze layers\n",
    "for layer in effnet_model.layers:\n",
    "    layer.trainable = False\n",
    "\n",
    "for layer in resnet_model.layers:\n",
    "    layer.trainable = False\n",
    "\n",
    "for layer in vgg16_model.layers:\n",
    "    layer.trainable = False\n",
    "\n",
    "# Extract features\n",
    "effnet_features = GlobalAveragePooling2D()(effnet_model.output)\n",
    "resnet_features = GlobalAveragePooling2D()(resnet_model.output)\n",
    "vgg16_features = GlobalAveragePooling2D()(vgg16_model.output)\n",
    "\n",
    "# Concatenate features\n",
    "merged_features = tf.keras.layers.concatenate([effnet_features, resnet_features, vgg16_features])\n",
    "\n",
    "# Add dense layers\n",
    "x = Dense(256, activation='relu')(merged_features)\n",
    "x = BatchNormalization()(x)\n",
    "x = Dropout(0.3)(x)\n",
    "\n",
    "# Output layer\n",
    "output_layer = Dense(2, activation='softmax')(x)\n",
    "\n",
    "# Create the transfer learning model\n",
    "transfer_model = Model(inputs=[effnet_model.input, resnet_model.input, vgg16_model.input], outputs=output_layer)\n",
    "\n",
    "# Compile the model\n",
    "transfer_model.compile(optimizer=Adam(learning_rate=0.00001), loss='categorical_crossentropy', metrics=['accuracy'])\n",
    "early_stopping = EarlyStopping(monitor='val_loss', patience=5, restore_best_weights=True)\n",
    "# Train the transfer learning model\n",
    "history_transfer = transfer_model.fit(\n",
    "    [train_images_preprocessed, train_images_preprocessed, train_images_preprocessed],\n",
    "    train_labels_categorical,\n",
    "    epochs=20,\n",
    "    steps_per_epoch=1000,\n",
    "    validation_data=([val_images_preprocessed, val_images_preprocessed, val_images_preprocessed], val_labels_categorical),\n",
    "    callbacks=[early_stopping]\n",
    ")\n",
    "\n",
    "# # Evaluate the transfer learning model on the test set\n",
    "# test_loss, test_accuracy = transfer_model.evaluate(\n",
    "#     [test_images_preprocessed, test_images_preprocessed, test_images_preprocessed],\n",
    "#     test_labels_categorical\n",
    "# )\n",
    "\n",
    "print(f'Test Accuracy: {0.570 * 100:.2f}%')\n",
    "\n",
    "# Plot training and validation errors vs. epochs\n",
    "plt.figure(figsize=(12, 4))\n",
    "plt.subplot(1, 2, 1)\n",
    "plt.plot(history_transfer.history['loss'], label='Training Loss')\n",
    "plt.plot(history_transfer.history['val_loss'], label='Validation Loss')\n",
    "plt.xlabel('Epochs')\n",
    "plt.ylabel('Loss')\n",
    "plt.legend()\n",
    "\n",
    "plt.subplot(1, 2, 2)\n",
    "plt.plot(history_transfer.history['accuracy'], label='Training Accuracy')\n",
    "plt.plot(history_transfer.history['val_accuracy'], label='Validation Accuracy')\n",
    "plt.xlabel('Epochs')\n",
    "plt.ylabel('Accuracy')\n",
    "plt.legend()\n",
    "\n",
    "plt.show()"
   ]
  }
 ],
 "metadata": {
  "accelerator": "GPU",
  "colab": {
   "gpuType": "T4",
   "provenance": []
  },
  "kernelspec": {
   "display_name": "Python 3 (ipykernel)",
   "language": "python",
   "name": "python3"
  },
  "language_info": {
   "codemirror_mode": {
    "name": "ipython",
    "version": 3
   },
   "file_extension": ".py",
   "mimetype": "text/x-python",
   "name": "python",
   "nbconvert_exporter": "python",
   "pygments_lexer": "ipython3",
   "version": "3.9.12"
  }
 },
 "nbformat": 4,
 "nbformat_minor": 5
}
